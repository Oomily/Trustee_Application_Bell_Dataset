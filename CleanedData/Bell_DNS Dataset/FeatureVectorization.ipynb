{
 "cells": [
  {
   "cell_type": "code",
   "execution_count": 36,
   "metadata": {},
   "outputs": [],
   "source": [
    "import pandas as pd\n",
    "import numpy as np\n",
    "from nltk.tokenize import sent_tokenize, word_tokenize\n",
    "import gensim\n",
    "from gensim.models import Word2Vec\n",
    "from sklearn.preprocessing import OneHotEncoder"
   ]
  },
  {
   "cell_type": "code",
   "execution_count": 29,
   "metadata": {},
   "outputs": [
    {
     "name": "stderr",
     "output_type": "stream",
     "text": [
      "/tmp/ipykernel_2561452/848246373.py:43: FutureWarning: The frame.append method is deprecated and will be removed from pandas in a future version. Use pandas.concat instead.\n",
      "  df_final = df_final.append(df2)\n",
      "/tmp/ipykernel_2561452/848246373.py:44: FutureWarning: The frame.append method is deprecated and will be removed from pandas in a future version. Use pandas.concat instead.\n",
      "  df_final = df_final.append(df3)\n",
      "/tmp/ipykernel_2561452/848246373.py:45: FutureWarning: The frame.append method is deprecated and will be removed from pandas in a future version. Use pandas.concat instead.\n",
      "  df_final = df_final.append(df4)\n"
     ]
    }
   ],
   "source": [
    "df1 = pd.read_csv('features_domain_benign_csv.csv')\n",
    "df1['class'] = 'benign'\n",
    "df1.to_csv('benign_appended.csv', index=False)\n",
    "\n",
    "df2 = pd.read_csv('features-domain_Malware.csv')\n",
    "df2['class'] = 'malware'\n",
    "df2.to_csv('malware_appended.csv', index=False)\n",
    "\n",
    "df3 = pd.read_csv('features-domain_phishing.csv')\n",
    "df3['class'] = 'phishing'\n",
    "df3.to_csv('phishing_appended.csv', index=False)\n",
    "\n",
    "df4 = pd.read_csv('features-domain_Spam.csv')\n",
    "df4['class'] = 'spam'\n",
    "df4.to_csv('spam_appended.csv', index=False)\n",
    "\n",
    "df1 = df1[[\"subdomain\", \"tld\", \"sld\", \"len\", \"numeric_percentage\", \"char_distribution\",\n",
    "                                            \"entropy\", \"1gram\", \"2gram\", \"3gram\", \"longest_word\", \"distance_from_bad_words\",\n",
    "                                            \"typos\", \"obfuscate_at_sign\", \"Domain_Name\", \"Registrar\", \"Registrant_Name\", \n",
    "                                            \"Creation_Date_Time\", \"Emails\", \"Domain_Age\", \"Organization\", \"State\", \"Country\",\n",
    "                                            \"Name_Server_Count\", \"Alexa_Rank\", \"class\"]]\n",
    "df2 = df2[[\"subdomain\", \"tld\", \"sld\", \"len\", \"numeric_percentage\", \"char_distribution\",\n",
    "                                            \"entropy\", \"1gram\", \"2gram\", \"3gram\", \"longest_word\", \"distance_from_bad_words\",\n",
    "                                            \"typos\", \"obfuscate_at_sign\", \"Domain_Name\", \"Registrar\", \"Registrant_Name\", \n",
    "                                            \"Creation_Date_Time\", \"Emails\", \"Domain_Age\", \"Organization\", \"State\", \"Country\",\n",
    "                                            \"Name_Server_Count\", \"Alexa_Rank\", \"class\"]]\n",
    "df3 = df3[[\"subdomain\", \"tld\", \"sld\", \"len\", \"numeric_percentage\", \"char_distribution\",\n",
    "                                            \"entropy\", \"1gram\", \"2gram\", \"3gram\", \"longest_word\", \"distance_from_bad_words\",\n",
    "                                            \"typos\", \"obfuscate_at_sign\", \"Domain_Name\", \"Registrar\", \"Registrant_Name\", \n",
    "                                            \"Creation_Date_Time\", \"Emails\", \"Domain_Age\", \"Organization\", \"State\", \"Country\",\n",
    "                                            \"Name_Server_Count\", \"Alexa_Rank\", \"class\"]]\n",
    "df4 = df4[[\"subdomain\", \"tld\", \"sld\", \"len\", \"numeric_percentage\", \"char_distribution\",\n",
    "                                            \"entropy\", \"1gram\", \"2gram\", \"3gram\", \"longest_word\", \"distance_from_bad_words\",\n",
    "                                            \"typos\", \"obfuscate_at_sign\", \"Domain_Name\", \"Registrar\", \"Registrant_Name\", \n",
    "                                            \"Creation_Date_Time\", \"Emails\", \"Domain_Age\", \"Organization\", \"State\", \"Country\",\n",
    "                                            \"Name_Server_Count\", \"Alexa_Rank\", \"class\"]]\n",
    "\n",
    "df_final = df1\n",
    "df2.to_csv('malware_appended.csv', index=False, header=False)\n",
    "df3.to_csv('phishing_appended.csv', index=False, header=False)\n",
    "df4.to_csv('spam_appended.csv', index=False, header=False)\n",
    "\n",
    "df_final = df_final.append(df2)\n",
    "df_final = df_final.append(df3)\n",
    "df_final = df_final.append(df4)\n",
    "\n",
    "df_final.to_csv('combined_data.csv', index=False)\n",
    "\n",
    "\n"
   ]
  },
  {
   "cell_type": "code",
   "execution_count": 31,
   "metadata": {},
   "outputs": [
    {
     "name": "stderr",
     "output_type": "stream",
     "text": [
      "/tmp/ipykernel_2561452/1757018131.py:2: DtypeWarning: Columns (13,23) have mixed types. Specify dtype option on import or set low_memory=False.\n",
      "  df = pd.read_csv(\"combined_data.csv\")\n",
      "/tmp/ipykernel_2561452/1757018131.py:4: DtypeWarning: Columns (13,23) have mixed types. Specify dtype option on import or set low_memory=False.\n",
      "  df = pd.read_csv(\"copy_of_combined_data.csv\")\n"
     ]
    }
   ],
   "source": [
    "#Making a copy of the CSV file \n",
    "df = pd.read_csv(\"combined_data.csv\")\n",
    "df.to_csv('copy_of_combined_data.csv', index=False)\n",
    "df = pd.read_csv(\"copy_of_combined_data.csv\")\n"
   ]
  },
  {
   "cell_type": "code",
   "execution_count": 32,
   "metadata": {},
   "outputs": [
    {
     "name": "stdout",
     "output_type": "stream",
     "text": [
      "Original DataFrame:\n",
      "        subdomain       tld                     sld  len  numeric_percentage  \\\n",
      "0            0.0       com                  google    7            0.000000   \n",
      "1            0.0       com                  google    7            0.000000   \n",
      "2            1.0       com                  google   10            0.000000   \n",
      "3            1.0       com                  google   10            0.000000   \n",
      "4            0.0       com                facebook    9            0.000000   \n",
      "...          ...       ...                     ...  ...                 ...   \n",
      "50154        0.0  xn--p1ai           xn--e1aawi3bw   14            8.333333   \n",
      "50155        0.0  xn--p1ai          xn--e1adw2cbtt   15            8.000000   \n",
      "50156        0.0  xn--p1ai            xn--i1adt7cc   13            8.695652   \n",
      "50157        0.0  xn--p1ai             xn--i1agwyy   12            4.545455   \n",
      "50158        0.0       com  zenithprivatebankingng   23            0.000000   \n",
      "\n",
      "                                       char_distribution   entropy  \\\n",
      "0      defaultdict(<class 'int'>, {'g': 2, 'o': 2, 'l...  1.834876   \n",
      "1      defaultdict(<class 'int'>, {'g': 2, 'o': 2, 'l...  1.834876   \n",
      "2      defaultdict(<class 'int'>, {'w': 3, 'g': 2, 'o...  2.114247   \n",
      "3      defaultdict(<class 'int'>, {'w': 3, 'g': 2, 'o...  2.114247   \n",
      "4      defaultdict(<class 'int'>, {'f': 1, 'a': 1, 'c...  2.595489   \n",
      "...                                                  ...       ...   \n",
      "50154  defaultdict(<class 'int'>, {'a': 2, '-': 2, 'w...  3.106830   \n",
      "50155  defaultdict(<class 'int'>, {'2': 1, 'x': 1, 'b...  3.379765   \n",
      "50156  defaultdict(<class 'int'>, {'a': 1, '-': 2, 'x...  3.108098   \n",
      "50157  defaultdict(<class 'int'>, {'a': 1, '-': 2, 'w...  2.952882   \n",
      "50158  defaultdict(<class 'int'>, {'k': 1, 'e': 2, 'h...  3.424499   \n",
      "\n",
      "                                                   1gram  \\\n",
      "0                         ['g', 'o', 'o', 'g', 'l', 'e']   \n",
      "1                         ['g', 'o', 'o', 'g', 'l', 'e']   \n",
      "2                         ['g', 'o', 'o', 'g', 'l', 'e']   \n",
      "3                         ['g', 'o', 'o', 'g', 'l', 'e']   \n",
      "4               ['f', 'a', 'c', 'e', 'b', 'o', 'o', 'k']   \n",
      "...                                                  ...   \n",
      "50154  ['x', 'n', '-', '-', 'e', '1', 'a', 'a', 'w', ...   \n",
      "50155  ['x', 'n', '-', '-', 'e', '1', 'a', 'd', 'w', ...   \n",
      "50156  ['x', 'n', '-', '-', 'i', '1', 'a', 'd', 't', ...   \n",
      "50157  ['x', 'n', '-', '-', 'i', '1', 'a', 'g', 'w', ...   \n",
      "50158  ['z', 'e', 'n', 'i', 't', 'h', 'p', 'r', 'i', ...   \n",
      "\n",
      "                                                   2gram  \\\n",
      "0                         ['go', 'oo', 'og', 'gl', 'le']   \n",
      "1                         ['go', 'oo', 'og', 'gl', 'le']   \n",
      "2                         ['go', 'oo', 'og', 'gl', 'le']   \n",
      "3                         ['go', 'oo', 'og', 'gl', 'le']   \n",
      "4             ['fa', 'ac', 'ce', 'eb', 'bo', 'oo', 'ok']   \n",
      "...                                                  ...   \n",
      "50154  ['xn', 'n-', '--', '-e', 'e1', '1a', 'aa', 'aw...   \n",
      "50155  ['xn', 'n-', '--', '-e', 'e1', '1a', 'ad', 'dw...   \n",
      "50156  ['xn', 'n-', '--', '-i', 'i1', '1a', 'ad', 'dt...   \n",
      "50157  ['xn', 'n-', '--', '-i', 'i1', '1a', 'ag', 'gw...   \n",
      "50158  ['ze', 'en', 'ni', 'it', 'th', 'hp', 'pr', 'ri...   \n",
      "\n",
      "                                                   3gram  ... Registrant_Name  \\\n",
      "0                           ['goo', 'oog', 'ogl', 'gle']  ...             NaN   \n",
      "1                           ['goo', 'oog', 'ogl', 'gle']  ...             NaN   \n",
      "2                           ['goo', 'oog', 'ogl', 'gle']  ...             NaN   \n",
      "3                           ['goo', 'oog', 'ogl', 'gle']  ...             NaN   \n",
      "4             ['fac', 'ace', 'ceb', 'ebo', 'boo', 'ook']  ...             NaN   \n",
      "...                                                  ...  ...             ...   \n",
      "50154  ['xn-', 'n--', '--e', '-e1', 'e1a', '1aa', 'aa...  ...             NaN   \n",
      "50155  ['xn-', 'n--', '--e', '-e1', 'e1a', '1ad', 'ad...  ...             NaN   \n",
      "50156  ['xn-', 'n--', '--i', '-i1', 'i1a', '1ad', 'ad...  ...             NaN   \n",
      "50157  ['xn-', 'n--', '--i', '-i1', 'i1a', '1ag', 'ag...  ...             NaN   \n",
      "50158  ['zen', 'eni', 'nit', 'ith', 'thp', 'hpr', 'pr...  ...             NaN   \n",
      "\n",
      "        Creation_Date_Time                                             Emails  \\\n",
      "0      1997-09-15 04:00:00  ['abusecomplaints@markmonitor.com', 'whoisrequ...   \n",
      "1      1997-09-15 04:00:00  ['abusecomplaints@markmonitor.com', 'whoisrequ...   \n",
      "2      1997-09-15 04:00:00  ['abusecomplaints@markmonitor.com', 'whoisrequ...   \n",
      "3      1997-09-15 04:00:00  ['abusecomplaints@markmonitor.com', 'whoisrequ...   \n",
      "4      1997-03-29 05:00:00  ['abusecomplaints@registrarsafe.com', 'domain@...   \n",
      "...                    ...                                                ...   \n",
      "50154                  NaN                                                NaN   \n",
      "50155                  NaN                                                NaN   \n",
      "50156                  NaN                                                NaN   \n",
      "50157                  NaN                                                NaN   \n",
      "50158  2016-12-05 19:23:29  ['abuse-contact@publicdomainregistry.com', 'gd...   \n",
      "\n",
      "                       Domain_Age    Organization        State      Country  \\\n",
      "0      8088 days, 11:17:15.353226      Google LLC           CA           US   \n",
      "1      8088 days, 11:17:21.048258      Google LLC           CA           US   \n",
      "2      8088 days, 11:17:26.701661      Google LLC           CA           US   \n",
      "3      8088 days, 11:17:32.644764      Google LLC           CA           US   \n",
      "4      8258 days, 10:17:38.661856  Facebook, Inc.           CA           US   \n",
      "...                           ...             ...          ...          ...   \n",
      "50154                           0             NaN          NaN          NaN   \n",
      "50155                           0             NaN          NaN          NaN   \n",
      "50156                           0             NaN          NaN          NaN   \n",
      "50157                           0             NaN          NaN          NaN   \n",
      "50158  1055 days, 18:37:27.308123     GDPR Masked  GDPR Masked  GDPR Masked   \n",
      "\n",
      "      Name_Server_Count Alexa_Rank   class  \n",
      "0                   8.0        1.0  benign  \n",
      "1                   8.0        1.0  benign  \n",
      "2                   8.0        1.0  benign  \n",
      "3                   8.0        1.0  benign  \n",
      "4                   2.0        7.0  benign  \n",
      "...                 ...        ...     ...  \n",
      "50154                 0       -1.0    spam  \n",
      "50155                 0       -1.0    spam  \n",
      "50156                 0       -1.0    spam  \n",
      "50157                 0       -1.0    spam  \n",
      "50158                 8       -1.0    spam  \n",
      "\n",
      "[50159 rows x 26 columns]\n"
     ]
    }
   ],
   "source": [
    "print('Original DataFrame:\\n', df)"
   ]
  },
  {
   "cell_type": "code",
   "execution_count": 33,
   "metadata": {},
   "outputs": [],
   "source": [
    "df.drop('Registrant_Name', axis=1, inplace=True)"
   ]
  },
  {
   "cell_type": "code",
   "execution_count": 34,
   "metadata": {},
   "outputs": [],
   "source": [
    "df.to_csv('copy_of_combined_data.csv', index=False)"
   ]
  },
  {
   "cell_type": "code",
   "execution_count": 35,
   "metadata": {},
   "outputs": [],
   "source": [
    "df.drop('Emails', axis=1, inplace=True)\n",
    "df.to_csv('copy_of_combined_data.csv', index=False)"
   ]
  },
  {
   "cell_type": "code",
   "execution_count": 38,
   "metadata": {},
   "outputs": [],
   "source": [
    "df.dropna(inplace=True)\n",
    "df.to_csv('copy_of_combined_data.csv', index=False)"
   ]
  },
  {
   "attachments": {},
   "cell_type": "markdown",
   "metadata": {},
   "source": [
    "# One Hot Encoding for tld"
   ]
  },
  {
   "cell_type": "code",
   "execution_count": 3,
   "metadata": {},
   "outputs": [
    {
     "name": "stdout",
     "output_type": "stream",
     "text": [
      "['ac.at' 'ac.id' 'ac.il' 'ac.in' 'ac.ir' 'ac.kr' 'ac.th' 'ac.uk' 'ac.za'\n",
      " 'as' 'at' 'basketball' 'be' 'bg' 'biz' 'blog' 'bnpparibas' 'br' 'by' 'ca'\n",
      " 'cat' 'cc' 'cern' 'ch' 'cl' 'cn' 'co' 'co.il' 'co.in' 'co.jp' 'co.kr'\n",
      " 'co.nz' 'co.uk' 'co.ve' 'co.za' 'com' 'com.ar' 'com.au' 'com.br' 'com.cn'\n",
      " 'com.co' 'com.ec' 'com.es' 'com.hk' 'com.mx' 'com.pe' 'com.pk' 'com.sa'\n",
      " 'com.tw' 'com.ua' 'com.uy' 'cu' 'cx' 'cz' 'de' 'dk' 'dp.ua' 'edu'\n",
      " 'edu.ar' 'edu.au' 'edu.br' 'edu.cn' 'edu.co' 'edu.et' 'edu.kz' 'edu.mo'\n",
      " 'edu.mt' 'edu.my' 'edu.ph' 'edu.pl' 'edu.sg' 'edu.tr' 'edu.tw' 'edu.ua'\n",
      " 'ee' 'es' 'eu' 'eus' 'fan' 'fi' 'fm' 'fo' 'fr' 'fun' 'gal' 'gc.ca' 'gd'\n",
      " 'gg' 'gl' 'gle' 'go.kr' 'google' 'gouv.fr' 'gov' 'gov.au' 'gov.br'\n",
      " 'gov.cn' 'gov.it' 'gov.kh' 'gov.pl' 'gov.tr' 'gov.tw' 'gov.ua' 'gov.uk'\n",
      " 'guru' 'host' 'hr' 'hu' 'icu' 'id' 'ie' 'im' 'in' 'info' 'ink' 'int' 'io'\n",
      " 'ir' 'it' 'jobs' 'jp' 'kr' 'kz' 'la' 'leg.br' 'lt' 'lv' 'ly' 'me' 'mo'\n",
      " 'mobi' 'mp' 'ms' 'museum' 'mx' 'ne.jp' 'net' 'net.au' 'news' 'ng'\n",
      " 'nhs.uk' 'nic.in' 'nl' 'of.by' 'org' 'org.cn' 'org.pl' 'org.uk'\n",
      " 'pa.gov.br' 'pe' 'pl' 'pt' 'pw' 'report' 'ro' 'ru' 'sc.gov.br' 'school'\n",
      " 'scot' 'se' 'si' 'site' 'social' 'st' 'tech' 'tel' 'tl' 'to' 'top' 'tv'\n",
      " 'tw' 'uk' 'us' 'vic.gov.au' 'wales' 'ws' 'xyz']\n"
     ]
    }
   ],
   "source": [
    "#Creating the list of unique entries for tld column\n",
    "\n",
    "tldList = dataset[\"tld\"].tolist()\n",
    "tldList = np.unique(tldList)\n",
    "print(tldList)"
   ]
  },
  {
   "cell_type": "code",
   "execution_count": 4,
   "metadata": {},
   "outputs": [],
   "source": [
    "for row in range(len(tldList)):\n",
    "    dataset[\"tld\"] = dataset[\"tld\"].replace(tldList[row], row+1)\n",
    "dataset.to_csv('copy_of_combined_data.csv', index=False)"
   ]
  },
  {
   "attachments": {},
   "cell_type": "markdown",
   "metadata": {},
   "source": [
    "# One Hot Encoding for sld"
   ]
  },
  {
   "cell_type": "code",
   "execution_count": 5,
   "metadata": {},
   "outputs": [],
   "source": [
    "sldList = dataset[\"sld\"].tolist()\n",
    "sldList = np.unique(sldList)\n",
    "for row in range(len(sldList)):\n",
    "    dataset[\"sld\"] = dataset[\"sld\"].replace(sldList[row], row+1)\n",
    "dataset.to_csv('copy_of_combined_data.csv', index=False)"
   ]
  }
 ],
 "metadata": {
  "kernelspec": {
   "display_name": "Python_venv_kernel",
   "language": "python",
   "name": "venv"
  },
  "language_info": {
   "codemirror_mode": {
    "name": "ipython",
    "version": 3
   },
   "file_extension": ".py",
   "mimetype": "text/x-python",
   "name": "python",
   "nbconvert_exporter": "python",
   "pygments_lexer": "ipython3",
   "version": "3.10.6"
  },
  "orig_nbformat": 4
 },
 "nbformat": 4,
 "nbformat_minor": 2
}

{
 "cells": [
  {
   "cell_type": "code",
   "execution_count": 1,
   "metadata": {},
   "outputs": [],
   "source": [
    "import numpy as np\n",
    "import pandas as pd\n",
    "import matplotlib.pyplot as plt\n",
    "#set a random seed for replication\n",
    "seed = 62583\n",
    "np.random.seed(seed)\n",
    "#read in training data\n",
    "df = pd.read_csv('final_dataset.csv')"
   ]
  },
  {
   "cell_type": "code",
   "execution_count": 2,
   "metadata": {},
   "outputs": [
    {
     "name": "stdout",
     "output_type": "stream",
     "text": [
      "['Benign' 'Light Attack' 'Light Benign' 'Heavy Attack' 'Heavy Benign']\n"
     ]
    }
   ],
   "source": [
    "print(df['GlobalClass'].unique())"
   ]
  },
  {
   "cell_type": "code",
   "execution_count": 3,
   "metadata": {},
   "outputs": [
    {
     "data": {
      "text/plain": [
       "Benign          83183\n",
       "Heavy Benign    68057\n",
       "Light Benign    24403\n",
       "Heavy Attack     5764\n",
       "Light Attack     2462\n",
       "Name: GlobalClass, dtype: int64"
      ]
     },
     "execution_count": 3,
     "metadata": {},
     "output_type": "execute_result"
    }
   ],
   "source": [
    "df['GlobalClass'].value_counts()\n"
   ]
  },
  {
   "cell_type": "code",
   "execution_count": 4,
   "metadata": {},
   "outputs": [],
   "source": [
    "df['GlobalClass'] = df['GlobalClass'].map({'Benign':0,'Light Benign':0,'Heavy Benign':0, 'Light Attack':1, 'Heavy Attack':1})"
   ]
  },
  {
   "cell_type": "markdown",
   "metadata": {},
   "source": [
    "Undersampling Benign to balance out the categories more"
   ]
  },
  {
   "cell_type": "code",
   "execution_count": 5,
   "metadata": {},
   "outputs": [],
   "source": [
    "c0 = df[df['GlobalClass'] == 0]\n",
    "c1 = df[df['GlobalClass'] == 1]\n",
    "df_0 = c0.sample(8226)\n",
    "undersampled_df = pd.concat([df_0, c1],axis=0)\n",
    "df = undersampled_df"
   ]
  },
  {
   "cell_type": "code",
   "execution_count": 6,
   "metadata": {},
   "outputs": [
    {
     "data": {
      "text/plain": [
       "0    8226\n",
       "1    8226\n",
       "Name: GlobalClass, dtype: int64"
      ]
     },
     "execution_count": 6,
     "metadata": {},
     "output_type": "execute_result"
    }
   ],
   "source": [
    "df['GlobalClass'].value_counts()"
   ]
  },
  {
   "cell_type": "code",
   "execution_count": null,
   "metadata": {},
   "outputs": [],
   "source": [
    "feature_names = list(df.columns)\n",
    "print(feature_names)\n",
    "feature_names.remove('GlobalClass')\n",
    "target_names = ['0', '1']"
   ]
  },
  {
   "cell_type": "code",
   "execution_count": 7,
   "metadata": {},
   "outputs": [],
   "source": [
    "from sklearn.model_selection import train_test_split\n",
    "\n",
    "#create feature and targets\n",
    "features = df.drop('GlobalClass', axis=1)\n",
    "target = df['GlobalClass']\n",
    "#split data into 80% training and 20% test sets\n",
    "X_train, X_test, y_train, y_test = train_test_split(features, target, test_size=0.2, random_state=seed)"
   ]
  },
  {
   "cell_type": "code",
   "execution_count": 8,
   "metadata": {},
   "outputs": [
    {
     "name": "stdout",
     "output_type": "stream",
     "text": [
      "size of X_train: (13161, 38)\n",
      "size of X_test: (3291, 38)\n",
      "size of y_train: (13161,)\n",
      "size of y_test: (3291,)\n"
     ]
    }
   ],
   "source": [
    "#size for the sets\n",
    "print('size of X_train:', X_train.shape)\n",
    "print('size of X_test:', X_test.shape)\n",
    "print('size of y_train:', y_train.shape)\n",
    "print('size of y_test:', y_test.shape)"
   ]
  },
  {
   "cell_type": "code",
   "execution_count": 9,
   "metadata": {},
   "outputs": [
    {
     "data": {
      "text/plain": [
       "0.9863992097864904"
      ]
     },
     "execution_count": 9,
     "metadata": {},
     "output_type": "execute_result"
    }
   ],
   "source": [
    "from sklearn.ensemble import HistGradientBoostingClassifier\n",
    "hgb_classifier = HistGradientBoostingClassifier(class_weight='balanced')\n",
    "hgb_classifier.fit(X_train,y_train)\n",
    "y_pred_hgb = hgb_classifier.predict(X_test)\n",
    "hgb_classifier.score(X_train, y_train)"
   ]
  },
  {
   "cell_type": "code",
   "execution_count": 10,
   "metadata": {},
   "outputs": [
    {
     "data": {
      "image/png": "[encoded data removed]",
      "text/plain": [
       "<Figure size 600x600 with 1 Axes>"
      ]
     },
     "metadata": {},
     "output_type": "display_data"
    }
   ],
   "source": [
    "from sklearn.metrics import confusion_matrix, accuracy_score, roc_auc_score\n",
    "cm_hgb = confusion_matrix(y_test, y_pred_hgb)\n",
    "\n",
    "from mlxtend.plotting import plot_confusion_matrix\n",
    "fig, ax = plot_confusion_matrix(conf_mat=cm_hgb, figsize=(6, 6), cmap=plt.cm.Greens)\n",
    "plt.xlabel('Predictions', fontsize=18)\n",
    "plt.ylabel('Actuals', fontsize=18)\n",
    "plt.title('Confusion Matrix', fontsize=18)\n",
    "plt.show()"
   ]
  },
  {
   "cell_type": "code",
   "execution_count": 11,
   "metadata": {},
   "outputs": [
    {
     "data": {
      "text/plain": [
       "0.9814646004254026"
      ]
     },
     "execution_count": 11,
     "metadata": {},
     "output_type": "execute_result"
    }
   ],
   "source": [
    "from sklearn.model_selection import cross_val_score\n",
    "from sklearn.metrics import classification_report\n",
    "accuracy_score(y_test, y_pred_hgb)"
   ]
  },
  {
   "cell_type": "code",
   "execution_count": 12,
   "metadata": {},
   "outputs": [
    {
     "data": {
      "text/plain": [
       "0.9814962558146235"
      ]
     },
     "execution_count": 12,
     "metadata": {},
     "output_type": "execute_result"
    }
   ],
   "source": [
    "roc_auc_score(y_test, y_pred_hgb)"
   ]
  },
  {
   "cell_type": "code",
   "execution_count": 13,
   "metadata": {},
   "outputs": [
    {
     "name": "stdout",
     "output_type": "stream",
     "text": [
      "Accuracy of hgb: 98.21 %\n",
      "SD of hgb: 0.36 %\n",
      "              precision    recall  f1-score   support\n",
      "\n",
      "           0       0.98      0.98      0.98      1662\n",
      "           1       0.98      0.98      0.98      1629\n",
      "\n",
      "    accuracy                           0.98      3291\n",
      "   macro avg       0.98      0.98      0.98      3291\n",
      "weighted avg       0.98      0.98      0.98      3291\n",
      "\n"
     ]
    }
   ],
   "source": [
    "acc_hgb = cross_val_score(estimator = hgb_classifier, X = X_train, y = y_train, cv = 10)\n",
    "print(\"Accuracy of hgb: {:.2f} %\".format(acc_hgb.mean()*100))\n",
    "print(\"SD of hgb: {:.2f} %\".format(acc_hgb.std()*100))\n",
    "print(classification_report(y_test, y_pred_hgb))"
   ]
  },
  {
   "cell_type": "code",
   "execution_count": 14,
   "metadata": {},
   "outputs": [
    {
     "name": "stdout",
     "output_type": "stream",
     "text": [
      "Best Accuracy of HGB: 97.71 %\n",
      "Best Parameter of HGB: {'l2_regularization': 1.5, 'learning_rate': 0.1, 'max_depth': 25, 'max_iter': 1500, 'scoring': 'f1_micro'}\n"
     ]
    }
   ],
   "source": [
    "from sklearn.model_selection import GridSearchCV\n",
    "parameters_hgb = [{'max_iter': [1000,1200,1500],\n",
    "                'learning_rate': [0.1],\n",
    "                'max_depth' : [25, 50, 75],\n",
    "                'l2_regularization': [1.5],\n",
    "                'scoring': ['f1_micro']}]\n",
    "grid_search_hgb = GridSearchCV(estimator = hgb_classifier,\n",
    "                           param_grid = parameters_hgb,\n",
    "                           scoring = 'accuracy',\n",
    "                           cv = 10,\n",
    "                           n_jobs = -1)\n",
    "grid_search_hgb.fit(X_train, y_train)\n",
    "best_accuracy_hgb = grid_search_hgb.best_score_\n",
    "best_paramaeter_hgb = grid_search_hgb.best_params_  \n",
    "print(\"Best Accuracy of HGB: {:.2f} %\".format(best_accuracy_hgb.mean()*100))\n",
    "print(\"Best Parameter of HGB:\", best_paramaeter_hgb)"
   ]
  },
  {
   "cell_type": "code",
   "execution_count": 16,
   "metadata": {},
   "outputs": [
    {
     "name": "stdout",
     "output_type": "stream",
     "text": [
      "Initializing training dataset using HistGradientBoostingClassifier(class_weight='balanced') as expert model\n",
      "Expert model score: 0.9866454697853984\n",
      "Initializing Trustee outer-loop with 10 iterations\n",
      "########## Outer-loop Iteration 0/10 ##########\n",
      "Initializing Trustee inner-loop with 10 iterations\n",
      "########## Inner-loop Iteration 0/50 ##########\n",
      "Sampling 2763 points from training dataset with (9212, 9212) entries\n"
     ]
    },
    {
     "ename": "ValueError",
     "evalue": "Input X contains NaN.\nDecisionTreeClassifier does not accept missing values encoded as NaN natively. For supervised learning, you might want to consider sklearn.ensemble.HistGradientBoostingClassifier and Regressor which accept missing values encoded as NaNs natively. Alternatively, it is possible to preprocess the data, for instance by using an imputer transformer in a pipeline or drop samples with missing values. See https://scikit-learn.org/stable/modules/impute.html You can find a list of all estimators that handle NaN values at the following page: https://scikit-learn.org/stable/modules/impute.html#estimators-that-handle-nan-values",
     "output_type": "error",
     "traceback": [
      "\u001b[0;31m---------------------------------------------------------------------------\u001b[0m",
      "\u001b[0;31mValueError\u001b[0m                                Traceback (most recent call last)",
      "Cell \u001b[0;32mIn[16], line 7\u001b[0m\n\u001b[1;32m      3\u001b[0m \u001b[39mimport\u001b[39;00m \u001b[39mgraphviz\u001b[39;00m\n\u001b[1;32m      6\u001b[0m trustee \u001b[39m=\u001b[39m ClassificationTrustee(expert\u001b[39m=\u001b[39mhgb_classifier)\n\u001b[0;32m----> 7\u001b[0m trustee\u001b[39m.\u001b[39;49mfit(X_train, y_train, num_iter\u001b[39m=\u001b[39;49m\u001b[39m50\u001b[39;49m, num_stability_iter\u001b[39m=\u001b[39;49m\u001b[39m10\u001b[39;49m, samples_size\u001b[39m=\u001b[39;49m\u001b[39m0.3\u001b[39;49m, verbose\u001b[39m=\u001b[39;49m\u001b[39mTrue\u001b[39;49;00m)\n\u001b[1;32m      9\u001b[0m \u001b[39m# Get the best explanation from Trustee\u001b[39;00m\n\u001b[1;32m     10\u001b[0m dt, pruned_dt, agreement, reward \u001b[39m=\u001b[39m trustee\u001b[39m.\u001b[39mexplain()\n",
      "File \u001b[0;32m~/venv/lib/python3.10/site-packages/trustee/main.py:254\u001b[0m, in \u001b[0;36mTrustee.fit\u001b[0;34m(self, X, y, top_k, max_leaf_nodes, max_depth, ccp_alpha, train_size, num_iter, num_stability_iter, num_samples, samples_size, use_features, predict_method_name, optimization, aggregate, verbose)\u001b[0m\n\u001b[1;32m    251\u001b[0m     X_test_student \u001b[39m=\u001b[39m X_iter_test\u001b[39m.\u001b[39miloc[:, use_features]\n\u001b[1;32m    253\u001b[0m \u001b[39m# Step 2: Training DecisionTreeRegressor with sampled data\u001b[39;00m\n\u001b[0;32m--> 254\u001b[0m student\u001b[39m.\u001b[39;49mfit(X_train_student\u001b[39m.\u001b[39;49mvalues, y_iter_train\u001b[39m.\u001b[39;49mvalues)\n\u001b[1;32m    255\u001b[0m student_pred \u001b[39m=\u001b[39m student\u001b[39m.\u001b[39mpredict(X_test_student\u001b[39m.\u001b[39mvalues)\n\u001b[1;32m    257\u001b[0m \u001b[39mif\u001b[39;00m verbose:\n",
      "File \u001b[0;32m~/venv/lib/python3.10/site-packages/sklearn/tree/_classes.py:889\u001b[0m, in \u001b[0;36mDecisionTreeClassifier.fit\u001b[0;34m(self, X, y, sample_weight, check_input)\u001b[0m\n\u001b[1;32m    859\u001b[0m \u001b[39mdef\u001b[39;00m \u001b[39mfit\u001b[39m(\u001b[39mself\u001b[39m, X, y, sample_weight\u001b[39m=\u001b[39m\u001b[39mNone\u001b[39;00m, check_input\u001b[39m=\u001b[39m\u001b[39mTrue\u001b[39;00m):\n\u001b[1;32m    860\u001b[0m \u001b[39m    \u001b[39m\u001b[39m\"\"\"Build a decision tree classifier from the training set (X, y).\u001b[39;00m\n\u001b[1;32m    861\u001b[0m \n\u001b[1;32m    862\u001b[0m \u001b[39m    Parameters\u001b[39;00m\n\u001b[0;32m   (...)\u001b[0m\n\u001b[1;32m    886\u001b[0m \u001b[39m        Fitted estimator.\u001b[39;00m\n\u001b[1;32m    887\u001b[0m \u001b[39m    \"\"\"\u001b[39;00m\n\u001b[0;32m--> 889\u001b[0m     \u001b[39msuper\u001b[39;49m()\u001b[39m.\u001b[39;49mfit(\n\u001b[1;32m    890\u001b[0m         X,\n\u001b[1;32m    891\u001b[0m         y,\n\u001b[1;32m    892\u001b[0m         sample_weight\u001b[39m=\u001b[39;49msample_weight,\n\u001b[1;32m    893\u001b[0m         check_input\u001b[39m=\u001b[39;49mcheck_input,\n\u001b[1;32m    894\u001b[0m     )\n\u001b[1;32m    895\u001b[0m     \u001b[39mreturn\u001b[39;00m \u001b[39mself\u001b[39m\n",
      "File \u001b[0;32m~/venv/lib/python3.10/site-packages/sklearn/tree/_classes.py:186\u001b[0m, in \u001b[0;36mBaseDecisionTree.fit\u001b[0;34m(self, X, y, sample_weight, check_input)\u001b[0m\n\u001b[1;32m    184\u001b[0m check_X_params \u001b[39m=\u001b[39m \u001b[39mdict\u001b[39m(dtype\u001b[39m=\u001b[39mDTYPE, accept_sparse\u001b[39m=\u001b[39m\u001b[39m\"\u001b[39m\u001b[39mcsc\u001b[39m\u001b[39m\"\u001b[39m)\n\u001b[1;32m    185\u001b[0m check_y_params \u001b[39m=\u001b[39m \u001b[39mdict\u001b[39m(ensure_2d\u001b[39m=\u001b[39m\u001b[39mFalse\u001b[39;00m, dtype\u001b[39m=\u001b[39m\u001b[39mNone\u001b[39;00m)\n\u001b[0;32m--> 186\u001b[0m X, y \u001b[39m=\u001b[39m \u001b[39mself\u001b[39;49m\u001b[39m.\u001b[39;49m_validate_data(\n\u001b[1;32m    187\u001b[0m     X, y, validate_separately\u001b[39m=\u001b[39;49m(check_X_params, check_y_params)\n\u001b[1;32m    188\u001b[0m )\n\u001b[1;32m    189\u001b[0m \u001b[39mif\u001b[39;00m issparse(X):\n\u001b[1;32m    190\u001b[0m     X\u001b[39m.\u001b[39msort_indices()\n",
      "File \u001b[0;32m~/venv/lib/python3.10/site-packages/sklearn/base.py:579\u001b[0m, in \u001b[0;36mBaseEstimator._validate_data\u001b[0;34m(self, X, y, reset, validate_separately, **check_params)\u001b[0m\n\u001b[1;32m    577\u001b[0m \u001b[39mif\u001b[39;00m \u001b[39m\"\u001b[39m\u001b[39mestimator\u001b[39m\u001b[39m\"\u001b[39m \u001b[39mnot\u001b[39;00m \u001b[39min\u001b[39;00m check_X_params:\n\u001b[1;32m    578\u001b[0m     check_X_params \u001b[39m=\u001b[39m {\u001b[39m*\u001b[39m\u001b[39m*\u001b[39mdefault_check_params, \u001b[39m*\u001b[39m\u001b[39m*\u001b[39mcheck_X_params}\n\u001b[0;32m--> 579\u001b[0m X \u001b[39m=\u001b[39m check_array(X, input_name\u001b[39m=\u001b[39;49m\u001b[39m\"\u001b[39;49m\u001b[39mX\u001b[39;49m\u001b[39m\"\u001b[39;49m, \u001b[39m*\u001b[39;49m\u001b[39m*\u001b[39;49mcheck_X_params)\n\u001b[1;32m    580\u001b[0m \u001b[39mif\u001b[39;00m \u001b[39m\"\u001b[39m\u001b[39mestimator\u001b[39m\u001b[39m\"\u001b[39m \u001b[39mnot\u001b[39;00m \u001b[39min\u001b[39;00m check_y_params:\n\u001b[1;32m    581\u001b[0m     check_y_params \u001b[39m=\u001b[39m {\u001b[39m*\u001b[39m\u001b[39m*\u001b[39mdefault_check_params, \u001b[39m*\u001b[39m\u001b[39m*\u001b[39mcheck_y_params}\n",
      "File \u001b[0;32m~/venv/lib/python3.10/site-packages/sklearn/utils/validation.py:921\u001b[0m, in \u001b[0;36mcheck_array\u001b[0;34m(array, accept_sparse, accept_large_sparse, dtype, order, copy, force_all_finite, ensure_2d, allow_nd, ensure_min_samples, ensure_min_features, estimator, input_name)\u001b[0m\n\u001b[1;32m    915\u001b[0m         \u001b[39mraise\u001b[39;00m \u001b[39mValueError\u001b[39;00m(\n\u001b[1;32m    916\u001b[0m             \u001b[39m\"\u001b[39m\u001b[39mFound array with dim \u001b[39m\u001b[39m%d\u001b[39;00m\u001b[39m. \u001b[39m\u001b[39m%s\u001b[39;00m\u001b[39m expected <= 2.\u001b[39m\u001b[39m\"\u001b[39m\n\u001b[1;32m    917\u001b[0m             \u001b[39m%\u001b[39m (array\u001b[39m.\u001b[39mndim, estimator_name)\n\u001b[1;32m    918\u001b[0m         )\n\u001b[1;32m    920\u001b[0m     \u001b[39mif\u001b[39;00m force_all_finite:\n\u001b[0;32m--> 921\u001b[0m         _assert_all_finite(\n\u001b[1;32m    922\u001b[0m             array,\n\u001b[1;32m    923\u001b[0m             input_name\u001b[39m=\u001b[39;49minput_name,\n\u001b[1;32m    924\u001b[0m             estimator_name\u001b[39m=\u001b[39;49mestimator_name,\n\u001b[1;32m    925\u001b[0m             allow_nan\u001b[39m=\u001b[39;49mforce_all_finite \u001b[39m==\u001b[39;49m \u001b[39m\"\u001b[39;49m\u001b[39mallow-nan\u001b[39;49m\u001b[39m\"\u001b[39;49m,\n\u001b[1;32m    926\u001b[0m         )\n\u001b[1;32m    928\u001b[0m \u001b[39mif\u001b[39;00m ensure_min_samples \u001b[39m>\u001b[39m \u001b[39m0\u001b[39m:\n\u001b[1;32m    929\u001b[0m     n_samples \u001b[39m=\u001b[39m _num_samples(array)\n",
      "File \u001b[0;32m~/venv/lib/python3.10/site-packages/sklearn/utils/validation.py:161\u001b[0m, in \u001b[0;36m_assert_all_finite\u001b[0;34m(X, allow_nan, msg_dtype, estimator_name, input_name)\u001b[0m\n\u001b[1;32m    144\u001b[0m \u001b[39mif\u001b[39;00m estimator_name \u001b[39mand\u001b[39;00m input_name \u001b[39m==\u001b[39m \u001b[39m\"\u001b[39m\u001b[39mX\u001b[39m\u001b[39m\"\u001b[39m \u001b[39mand\u001b[39;00m has_nan_error:\n\u001b[1;32m    145\u001b[0m     \u001b[39m# Improve the error message on how to handle missing values in\u001b[39;00m\n\u001b[1;32m    146\u001b[0m     \u001b[39m# scikit-learn.\u001b[39;00m\n\u001b[1;32m    147\u001b[0m     msg_err \u001b[39m+\u001b[39m\u001b[39m=\u001b[39m (\n\u001b[1;32m    148\u001b[0m         \u001b[39mf\u001b[39m\u001b[39m\"\u001b[39m\u001b[39m\\n\u001b[39;00m\u001b[39m{\u001b[39;00mestimator_name\u001b[39m}\u001b[39;00m\u001b[39m does not accept missing values\u001b[39m\u001b[39m\"\u001b[39m\n\u001b[1;32m    149\u001b[0m         \u001b[39m\"\u001b[39m\u001b[39m encoded as NaN natively. For supervised learning, you might want\u001b[39m\u001b[39m\"\u001b[39m\n\u001b[0;32m   (...)\u001b[0m\n\u001b[1;32m    159\u001b[0m         \u001b[39m\"\u001b[39m\u001b[39m#estimators-that-handle-nan-values\u001b[39m\u001b[39m\"\u001b[39m\n\u001b[1;32m    160\u001b[0m     )\n\u001b[0;32m--> 161\u001b[0m \u001b[39mraise\u001b[39;00m \u001b[39mValueError\u001b[39;00m(msg_err)\n",
      "\u001b[0;31mValueError\u001b[0m: Input X contains NaN.\nDecisionTreeClassifier does not accept missing values encoded as NaN natively. For supervised learning, you might want to consider sklearn.ensemble.HistGradientBoostingClassifier and Regressor which accept missing values encoded as NaNs natively. Alternatively, it is possible to preprocess the data, for instance by using an imputer transformer in a pipeline or drop samples with missing values. See https://scikit-learn.org/stable/modules/impute.html You can find a list of all estimators that handle NaN values at the following page: https://scikit-learn.org/stable/modules/impute.html#estimators-that-handle-nan-values"
     ]
    }
   ],
   "source": [
    "from trustee import ClassificationTrustee\n",
    "from sklearn import tree\n",
    "\n",
    "trustee = ClassificationTrustee(expert=hgb_classifier)\n",
    "trustee.fit(X_train, y_train, num_iter=50, num_stability_iter=10, samples_size=0.3, verbose=True)\n",
    "\n",
    "# Get the best explanation from Trustee\n",
    "dt, pruned_dt, agreement, reward = trustee.explain()\n",
    "print(f\"Model explanation training (agreement, fidelity): ({agreement}, {reward})\")\n",
    "print(f\"Model Explanation size: {dt.tree_.node_count}\")\n",
    "print(f\"Top-k Prunned Model explanation size: {pruned_dt.tree_.node_count}\")\n",
    "\n",
    "# Use explanations to make predictions\n",
    "dt_y_pred = dt.predict(X_test)\n",
    "pruned_dt_y_pred = pruned_dt.predict(X_test)\n",
    "\n",
    "# Evaluate accuracy and fidelity of explanations\n",
    "print(\"Model explanation global fidelity report:\")\n",
    "print(classification_report(y_pred_hgb, dt_y_pred))\n",
    "print(\"Top-k Model explanation global fidelity report:\")\n",
    "print(classification_report(y_pred_hgb, pruned_dt_y_pred))\n",
    "\n",
    "print(\"Model explanation score report:\")\n",
    "print(classification_report(y_test, dt_y_pred))\n",
    "print(\"Top-k Model explanation score report:\")\n",
    "print(classification_report(y_test, pruned_dt_y_pred))\n",
    "\n",
    "# Output decision tree to pdf\n",
    "dot_data = tree.export_graphviz(\n",
    "    dt,\n",
    "    class_names=target_names,\n",
    "    feature_names=feature_names,\n",
    "    filled=True,\n",
    "    rounded=True,\n",
    "    special_characters=True,\n",
    ")\n"
   ]
  },
  {
   "cell_type": "code",
   "execution_count": null,
   "metadata": {},
   "outputs": [],
   "source": [
    "import pickle\n",
    "\n",
    "with open('dot_data.pkl', 'wb') as f:  # open a text file\n",
    "    pickle.dump(dot_data, f)\n",
    "with open('pruned_dt.pkl', 'wb') as f:  # open a text file\n",
    "    pickle.dump(pruned_dt, f)\n",
    "with open('dt.pkl', 'wb') as f:\n",
    "    pickle.dump(dt, f)"
   ]
  }
 ],
 "metadata": {
  "kernelspec": {
   "display_name": "Python_venv_kernel",
   "language": "python",
   "name": "venv"
  },
  "orig_nbformat": 4
 },
 "nbformat": 4,
 "nbformat_minor": 2
}

{
 "cells": [
  {
   "attachments": {},
   "cell_type": "markdown",
   "metadata": {},
   "source": [
    "Combined_data.csv is made from data the original authors provided, but cleaned by Laurens D’Hooge. From this, I will only further clean up a few things, like removing SubClass, and encoding strings"
   ]
  },
  {
   "cell_type": "code",
   "execution_count": 10,
   "metadata": {},
   "outputs": [],
   "source": [
    "import pandas as pd\n",
    "import numpy as np\n",
    "\n",
    "df = pd.read_csv('combined_data.csv')\n",
    "df.drop('SubClass', axis=1, inplace=True)\n",
    "df.to_csv('final_dataset.csv', index=False)"
   ]
  },
  {
   "cell_type": "code",
   "execution_count": 11,
   "metadata": {},
   "outputs": [
    {
     "name": "stdout",
     "output_type": "stream",
     "text": [
      "rr_type:  5\n",
      "unique_country: 164\n",
      "unique_asn: 5643\n",
      "unique_ttl: 8\n",
      "GlobalClass: 5\n"
     ]
    }
   ],
   "source": [
    "print('rr_type: ', len(pd.unique(df['rr_type'])))\n",
    "print('unique_country:', len(pd.unique(df['unique_country'])))\n",
    "print('unique_asn:', len(pd.unique(df['unique_asn'])))\n",
    "print('unique_ttl:', len(pd.unique(df['unique_ttl'])))\n",
    "print('GlobalClass:', len(pd.unique(df['GlobalClass'])))"
   ]
  },
  {
   "attachments": {},
   "cell_type": "markdown",
   "metadata": {},
   "source": [
    "rr_type and unique_ttl have few enough unique values to use one-hot encoding. unique_country and unique_asn can not be simply encoded this way"
   ]
  },
  {
   "cell_type": "code",
   "execution_count": 12,
   "metadata": {},
   "outputs": [],
   "source": [
    "df = pd.get_dummies(df, columns=['rr_type', 'unique_ttl'])\n"
   ]
  },
  {
   "cell_type": "code",
   "execution_count": 13,
   "metadata": {},
   "outputs": [
    {
     "name": "stdout",
     "output_type": "stream",
     "text": [
      "<class 'pandas.core.frame.DataFrame'>\n",
      "RangeIndex: 183869 entries, 0 to 183868\n",
      "Data columns (total 41 columns):\n",
      " #   Column                     Non-Null Count   Dtype  \n",
      "---  ------                     --------------   -----  \n",
      " 0   rr                         183869 non-null  float64\n",
      " 1   A_frequency                183869 non-null  float64\n",
      " 2   PTR_frequency              183869 non-null  float64\n",
      " 3   TXT_frequency              183869 non-null  float64\n",
      " 4   AAAA_frequency             157004 non-null  float64\n",
      " 5   rr_count                   183869 non-null  float64\n",
      " 6   rr_name_entropy            183869 non-null  float64\n",
      " 7   rr_name_length             183869 non-null  float64\n",
      " 8   distinct_ns                183869 non-null  float64\n",
      " 9   unique_country             183869 non-null  object \n",
      " 10  unique_asn                 183869 non-null  object \n",
      " 11  ttl_mean                   183869 non-null  float64\n",
      " 12  ttl_variance               183869 non-null  float64\n",
      " 13  FQDN_count                 183869 non-null  int64  \n",
      " 14  subdomain_length           183869 non-null  int64  \n",
      " 15  upper                      183869 non-null  int64  \n",
      " 16  lower                      183869 non-null  int64  \n",
      " 17  numeric                    183869 non-null  int64  \n",
      " 18  entropy                    183869 non-null  float64\n",
      " 19  special                    183869 non-null  int64  \n",
      " 20  labels                     183869 non-null  int64  \n",
      " 21  labels_max                 183869 non-null  int64  \n",
      " 22  labels_average             183869 non-null  float64\n",
      " 23  longest_word               183869 non-null  int64  \n",
      " 24  sld                        183869 non-null  int64  \n",
      " 25  len                        183869 non-null  int64  \n",
      " 26  subdomain                  183869 non-null  int64  \n",
      " 27  GlobalClass                183869 non-null  object \n",
      " 28  rr_type_{'A'}              183869 non-null  uint8  \n",
      " 29  rr_type_{'AAAA', 'A'}      183869 non-null  uint8  \n",
      " 30  rr_type_{'PTR'}            183869 non-null  uint8  \n",
      " 31  rr_type_{'TXT'}            183869 non-null  uint8  \n",
      " 32  rr_type_{None}             183869 non-null  uint8  \n",
      " 33  unique_ttl_{'1'}           183869 non-null  uint8  \n",
      " 34  unique_ttl_{'122'}         183869 non-null  uint8  \n",
      " 35  unique_ttl_{'128', '122'}  183869 non-null  uint8  \n",
      " 36  unique_ttl_{'128'}         183869 non-null  uint8  \n",
      " 37  unique_ttl_{'255'}         183869 non-null  uint8  \n",
      " 38  unique_ttl_{'64', '128'}   183869 non-null  uint8  \n",
      " 39  unique_ttl_{'64'}          183869 non-null  uint8  \n",
      " 40  unique_ttl_{}              183869 non-null  uint8  \n",
      "dtypes: float64(13), int64(12), object(3), uint8(13)\n",
      "memory usage: 41.6+ MB\n"
     ]
    }
   ],
   "source": [
    "df.info()"
   ]
  },
  {
   "cell_type": "code",
   "execution_count": 14,
   "metadata": {},
   "outputs": [],
   "source": [
    "#don't know how to encode these yet, excude from this iteration of the learning, may add later if accuracy is bad\n",
    "df = df.drop('unique_country', axis=1)\n",
    "df = df.drop('unique_asn', axis=1)"
   ]
  },
  {
   "cell_type": "code",
   "execution_count": 15,
   "metadata": {},
   "outputs": [
    {
     "name": "stdout",
     "output_type": "stream",
     "text": [
      "['Benign' 'Light Attack' 'Light Benign' 'Heavy Attack' 'Heavy Benign']\n"
     ]
    }
   ],
   "source": [
    "print(df['GlobalClass'].unique())"
   ]
  },
  {
   "cell_type": "code",
   "execution_count": 16,
   "metadata": {},
   "outputs": [],
   "source": [
    "df = df.dropna(subset=['GlobalClass'])"
   ]
  },
  {
   "cell_type": "code",
   "execution_count": 17,
   "metadata": {},
   "outputs": [
    {
     "name": "stdout",
     "output_type": "stream",
     "text": [
      "['Benign' 'Light Attack' 'Light Benign' 'Heavy Attack' 'Heavy Benign']\n"
     ]
    }
   ],
   "source": [
    "print(df['GlobalClass'].unique())"
   ]
  },
  {
   "cell_type": "code",
   "execution_count": 18,
   "metadata": {},
   "outputs": [],
   "source": [
    "df.to_csv('final_dataset.csv', index=False)"
   ]
  },
  {
   "cell_type": "code",
   "execution_count": 19,
   "metadata": {},
   "outputs": [
    {
     "name": "stdout",
     "output_type": "stream",
     "text": [
      "<class 'pandas.core.frame.DataFrame'>\n",
      "RangeIndex: 183869 entries, 0 to 183868\n",
      "Data columns (total 39 columns):\n",
      " #   Column                     Non-Null Count   Dtype  \n",
      "---  ------                     --------------   -----  \n",
      " 0   rr                         183869 non-null  float64\n",
      " 1   A_frequency                183869 non-null  float64\n",
      " 2   PTR_frequency              183869 non-null  float64\n",
      " 3   TXT_frequency              183869 non-null  float64\n",
      " 4   AAAA_frequency             157004 non-null  float64\n",
      " 5   rr_count                   183869 non-null  float64\n",
      " 6   rr_name_entropy            183869 non-null  float64\n",
      " 7   rr_name_length             183869 non-null  float64\n",
      " 8   distinct_ns                183869 non-null  float64\n",
      " 9   ttl_mean                   183869 non-null  float64\n",
      " 10  ttl_variance               183869 non-null  float64\n",
      " 11  FQDN_count                 183869 non-null  int64  \n",
      " 12  subdomain_length           183869 non-null  int64  \n",
      " 13  upper                      183869 non-null  int64  \n",
      " 14  lower                      183869 non-null  int64  \n",
      " 15  numeric                    183869 non-null  int64  \n",
      " 16  entropy                    183869 non-null  float64\n",
      " 17  special                    183869 non-null  int64  \n",
      " 18  labels                     183869 non-null  int64  \n",
      " 19  labels_max                 183869 non-null  int64  \n",
      " 20  labels_average             183869 non-null  float64\n",
      " 21  longest_word               183869 non-null  int64  \n",
      " 22  sld                        183869 non-null  int64  \n",
      " 23  len                        183869 non-null  int64  \n",
      " 24  subdomain                  183869 non-null  int64  \n",
      " 25  GlobalClass                183869 non-null  object \n",
      " 26  rr_type_{'A'}              183869 non-null  uint8  \n",
      " 27  rr_type_{'AAAA', 'A'}      183869 non-null  uint8  \n",
      " 28  rr_type_{'PTR'}            183869 non-null  uint8  \n",
      " 29  rr_type_{'TXT'}            183869 non-null  uint8  \n",
      " 30  rr_type_{None}             183869 non-null  uint8  \n",
      " 31  unique_ttl_{'1'}           183869 non-null  uint8  \n",
      " 32  unique_ttl_{'122'}         183869 non-null  uint8  \n",
      " 33  unique_ttl_{'128', '122'}  183869 non-null  uint8  \n",
      " 34  unique_ttl_{'128'}         183869 non-null  uint8  \n",
      " 35  unique_ttl_{'255'}         183869 non-null  uint8  \n",
      " 36  unique_ttl_{'64', '128'}   183869 non-null  uint8  \n",
      " 37  unique_ttl_{'64'}          183869 non-null  uint8  \n",
      " 38  unique_ttl_{}              183869 non-null  uint8  \n",
      "dtypes: float64(13), int64(12), object(1), uint8(13)\n",
      "memory usage: 38.8+ MB\n"
     ]
    }
   ],
   "source": [
    "df.info()"
   ]
  },
  {
   "cell_type": "code",
   "execution_count": 20,
   "metadata": {},
   "outputs": [],
   "source": [
    "#removing this column because it has NaNs, which Trustee can not handle\n",
    "df.drop('AAAA_frequency', axis=1, inplace=True)\n",
    "df.to_csv('final_dataset.csv', index = False)"
   ]
  }
 ],
 "metadata": {
  "kernelspec": {
   "display_name": "Python_venv_kernel",
   "language": "python",
   "name": "venv"
  },
  "language_info": {
   "codemirror_mode": {
    "name": "ipython",
    "version": 3
   },
   "file_extension": ".py",
   "mimetype": "text/x-python",
   "name": "python",
   "nbconvert_exporter": "python",
   "pygments_lexer": "ipython3",
   "version": "3.10.6"
  },
  "orig_nbformat": 4
 },
 "nbformat": 4,
 "nbformat_minor": 2
}

{
 "cells": [
  {
   "attachments": {},
   "cell_type": "markdown",
   "metadata": {},
   "source": [
    "Combined_data.csv is made from data the original authors provided, but cleaned by Laurens D’Hooge. From this, I will only further clean up a few things, like removing SubClass, and encoding strings"
   ]
  },
  {
   "cell_type": "code",
   "execution_count": 123,
   "metadata": {},
   "outputs": [],
   "source": [
    "import pandas as pd\n",
    "import numpy as np\n",
    "\n",
    "df = pd.read_csv('combined_data.csv')\n",
    "df.drop('SubClass', axis=1, inplace=True)\n",
    "df.to_csv('final_dataset.csv', index=False)"
   ]
  },
  {
   "cell_type": "code",
   "execution_count": 124,
   "metadata": {},
   "outputs": [
    {
     "name": "stdout",
     "output_type": "stream",
     "text": [
      "rr_type:  5\n",
      "unique_country: 164\n",
      "unique_asn: 5643\n",
      "unique_ttl: 8\n",
      "GlobalClass: 5\n"
     ]
    }
   ],
   "source": [
    "print('rr_type: ', len(pd.unique(df['rr_type'])))\n",
    "print('unique_country:', len(pd.unique(df['unique_country'])))\n",
    "print('unique_asn:', len(pd.unique(df['unique_asn'])))\n",
    "print('unique_ttl:', len(pd.unique(df['unique_ttl'])))\n",
    "print('GlobalClass:', len(pd.unique(df['GlobalClass'])))"
   ]
  },
  {
   "cell_type": "code",
   "execution_count": 125,
   "metadata": {},
   "outputs": [
    {
     "name": "stdout",
     "output_type": "stream",
     "text": [
      "[\"{'PTR'}\" '{None}' \"{'A'}\" \"{'AAAA', 'A'}\" \"{'TXT'}\"]\n",
      "[\"{'1'}\" \"{'255'}\" \"{'128', '122'}\" \"{'128'}\" \"{'122'}\" \"{'64'}\" '{}'\n",
      " \"{'64', '128'}\"]\n",
      "[ 0.   4.   2.   1.   3.   8.   5.   6.   7.   2.5 12. ]\n",
      "(array([  4690,  14253, 115415]),)\n",
      "None\n"
     ]
    }
   ],
   "source": [
    "print(df['rr_type'].unique())\n",
    "print(df['unique_ttl'].unique())\n",
    "print(df['rr'].unique())\n",
    "print(print(np.where(df.rr != df.A_frequency)))"
   ]
  },
  {
   "attachments": {},
   "cell_type": "markdown",
   "metadata": {},
   "source": [
    "rr_type and unique_ttl have already been encoded (A_frequency, PTR_frequency, TXT_frequency, and AAAA_frequency for rr_type; ttl_mean and ttl_variance for unique_ttl)"
   ]
  },
  {
   "cell_type": "code",
   "execution_count": 126,
   "metadata": {},
   "outputs": [],
   "source": [
    "df = df.drop('rr_type', axis=1)\n",
    "df = df.drop('unique_ttl', axis=1)\n"
   ]
  },
  {
   "cell_type": "code",
   "execution_count": 127,
   "metadata": {},
   "outputs": [
    {
     "name": "stdout",
     "output_type": "stream",
     "text": [
      "<class 'pandas.core.frame.DataFrame'>\n",
      "RangeIndex: 183869 entries, 0 to 183868\n",
      "Data columns (total 28 columns):\n",
      " #   Column            Non-Null Count   Dtype  \n",
      "---  ------            --------------   -----  \n",
      " 0   rr                183869 non-null  float64\n",
      " 1   A_frequency       183869 non-null  float64\n",
      " 2   PTR_frequency     183869 non-null  float64\n",
      " 3   TXT_frequency     183869 non-null  float64\n",
      " 4   AAAA_frequency    157004 non-null  float64\n",
      " 5   rr_count          183869 non-null  float64\n",
      " 6   rr_name_entropy   183869 non-null  float64\n",
      " 7   rr_name_length    183869 non-null  float64\n",
      " 8   distinct_ns       183869 non-null  float64\n",
      " 9   unique_country    183869 non-null  object \n",
      " 10  unique_asn        183869 non-null  object \n",
      " 11  ttl_mean          183869 non-null  float64\n",
      " 12  ttl_variance      183869 non-null  float64\n",
      " 13  FQDN_count        183869 non-null  int64  \n",
      " 14  subdomain_length  183869 non-null  int64  \n",
      " 15  upper             183869 non-null  int64  \n",
      " 16  lower             183869 non-null  int64  \n",
      " 17  numeric           183869 non-null  int64  \n",
      " 18  entropy           183869 non-null  float64\n",
      " 19  special           183869 non-null  int64  \n",
      " 20  labels            183869 non-null  int64  \n",
      " 21  labels_max        183869 non-null  int64  \n",
      " 22  labels_average    183869 non-null  float64\n",
      " 23  longest_word      183869 non-null  int64  \n",
      " 24  sld               183869 non-null  int64  \n",
      " 25  len               183869 non-null  int64  \n",
      " 26  subdomain         183869 non-null  int64  \n",
      " 27  GlobalClass       183869 non-null  object \n",
      "dtypes: float64(13), int64(12), object(3)\n",
      "memory usage: 39.3+ MB\n"
     ]
    }
   ],
   "source": [
    "df.info()"
   ]
  },
  {
   "cell_type": "code",
   "execution_count": 128,
   "metadata": {},
   "outputs": [],
   "source": [
    "#don't know how to encode these yet, excude from this iteration of the learning, may add later if accuracy is bad\n",
    "df = df.drop('unique_country', axis=1)\n",
    "df = df.drop('unique_asn', axis=1)\n",
    "#removing rr because it seems to be the same as A_frequency, except for when rr_type is {'AAAA', 'A'}, which is only 3 rows\n",
    "df = df.drop('rr', axis=1)\n"
   ]
  },
  {
   "cell_type": "code",
   "execution_count": 129,
   "metadata": {},
   "outputs": [
    {
     "name": "stdout",
     "output_type": "stream",
     "text": [
      "['Benign' 'Light Attack' 'Light Benign' 'Heavy Attack' 'Heavy Benign']\n"
     ]
    }
   ],
   "source": [
    "print(df['GlobalClass'].unique())"
   ]
  },
  {
   "cell_type": "code",
   "execution_count": 130,
   "metadata": {},
   "outputs": [],
   "source": [
    "df = df.dropna(subset=['GlobalClass'])"
   ]
  },
  {
   "cell_type": "code",
   "execution_count": 131,
   "metadata": {},
   "outputs": [
    {
     "name": "stdout",
     "output_type": "stream",
     "text": [
      "['Benign' 'Light Attack' 'Light Benign' 'Heavy Attack' 'Heavy Benign']\n"
     ]
    }
   ],
   "source": [
    "print(df['GlobalClass'].unique())"
   ]
  },
  {
   "cell_type": "code",
   "execution_count": 132,
   "metadata": {},
   "outputs": [],
   "source": [
    "df.to_csv('final_dataset.csv', index=False)"
   ]
  },
  {
   "cell_type": "code",
   "execution_count": 133,
   "metadata": {},
   "outputs": [
    {
     "name": "stdout",
     "output_type": "stream",
     "text": [
      "<class 'pandas.core.frame.DataFrame'>\n",
      "RangeIndex: 183869 entries, 0 to 183868\n",
      "Data columns (total 25 columns):\n",
      " #   Column            Non-Null Count   Dtype  \n",
      "---  ------            --------------   -----  \n",
      " 0   A_frequency       183869 non-null  float64\n",
      " 1   PTR_frequency     183869 non-null  float64\n",
      " 2   TXT_frequency     183869 non-null  float64\n",
      " 3   AAAA_frequency    157004 non-null  float64\n",
      " 4   rr_count          183869 non-null  float64\n",
      " 5   rr_name_entropy   183869 non-null  float64\n",
      " 6   rr_name_length    183869 non-null  float64\n",
      " 7   distinct_ns       183869 non-null  float64\n",
      " 8   ttl_mean          183869 non-null  float64\n",
      " 9   ttl_variance      183869 non-null  float64\n",
      " 10  FQDN_count        183869 non-null  int64  \n",
      " 11  subdomain_length  183869 non-null  int64  \n",
      " 12  upper             183869 non-null  int64  \n",
      " 13  lower             183869 non-null  int64  \n",
      " 14  numeric           183869 non-null  int64  \n",
      " 15  entropy           183869 non-null  float64\n",
      " 16  special           183869 non-null  int64  \n",
      " 17  labels            183869 non-null  int64  \n",
      " 18  labels_max        183869 non-null  int64  \n",
      " 19  labels_average    183869 non-null  float64\n",
      " 20  longest_word      183869 non-null  int64  \n",
      " 21  sld               183869 non-null  int64  \n",
      " 22  len               183869 non-null  int64  \n",
      " 23  subdomain         183869 non-null  int64  \n",
      " 24  GlobalClass       183869 non-null  object \n",
      "dtypes: float64(12), int64(12), object(1)\n",
      "memory usage: 35.1+ MB\n"
     ]
    }
   ],
   "source": [
    "df.info()"
   ]
  },
  {
   "cell_type": "code",
   "execution_count": 134,
   "metadata": {},
   "outputs": [],
   "source": [
    "#removing these columns because it has NaNs, which Trustee can not handle\n",
    "df.drop('AAAA_frequency', axis=1, inplace=True)\n",
    "df.to_csv('final_dataset.csv', index = False)"
   ]
  }
 ],
 "metadata": {
  "kernelspec": {
   "display_name": "Python 3",
   "language": "python",
   "name": "python3"
  },
  "language_info": {
   "codemirror_mode": {
    "name": "ipython",
    "version": 3
   },
   "file_extension": ".py",
   "mimetype": "text/x-python",
   "name": "python",
   "nbconvert_exporter": "python",
   "pygments_lexer": "ipython3",
   "version": "3.10.6"
  },
  "orig_nbformat": 4
 },
 "nbformat": 4,
 "nbformat_minor": 2
}

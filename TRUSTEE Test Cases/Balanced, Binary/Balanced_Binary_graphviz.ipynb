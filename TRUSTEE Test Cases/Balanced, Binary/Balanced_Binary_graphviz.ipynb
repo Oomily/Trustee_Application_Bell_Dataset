{
 "cells": [
  {
   "cell_type": "code",
   "execution_count": 4,
   "metadata": {},
   "outputs": [],
   "source": [
    "import graphviz\n",
    "from sklearn import tree\n"
   ]
  },
  {
   "cell_type": "code",
   "execution_count": 5,
   "metadata": {},
   "outputs": [],
   "source": [
    "import pickle\n",
    "dot_data = open (\"dot_data.pkl\", \"rb\")\n",
    "dot_data = pickle.load(dot_data)\n",
    "\n",
    "pruned_dt = open (\"pruned_dt.pkl\", \"rb\")\n",
    "pruned_dt = pickle.load(pruned_dt)\n",
    "\n",
    "dt = open (\"dt.pkl\", \"rb\")\n",
    "dt = pickle.load(dt)\n"
   ]
  },
  {
   "cell_type": "code",
   "execution_count": 7,
   "metadata": {},
   "outputs": [
    {
     "data": {
      "text/plain": [
       "'pruned_dt_explation.pdf'"
      ]
     },
     "execution_count": 7,
     "metadata": {},
     "output_type": "execute_result"
    }
   ],
   "source": [
    "# Output decision tree to pdf\n",
    "dot_data = tree.export_graphviz(\n",
    "    dt,\n",
    "    class_names=['0', '1', '2'],\n",
    "    feature_names=['A_frequency', 'PTR_frequency', 'TXT_frequency', 'rr_count', 'rr_name_entropy', 'rr_name_length', 'distinct_ns', 'ttl_mean', 'ttl_variance', 'FQDN_count', 'subdomain_length', 'upper', 'lower', 'numeric', 'entropy', 'special', 'labels', 'labels_max', 'labels_average', 'longest_word', 'sld', 'len', 'subdomain'],\n",
    "    filled=True,\n",
    "    rounded=True,\n",
    "    special_characters=True,\n",
    ")\n",
    "graph = graphviz.Source(dot_data)\n",
    "graph.render(\"dt_explanation\")\n",
    "\n",
    "# Output pruned decision tree to pdf\n",
    "dot_data = tree.export_graphviz(\n",
    "    pruned_dt,\n",
    "    class_names=['0', '1'],\n",
    "    feature_names=['A_frequency', 'PTR_frequency', 'TXT_frequency', 'rr_count', 'rr_name_entropy', 'rr_name_length', 'distinct_ns', 'ttl_mean', 'ttl_variance', 'FQDN_count', 'subdomain_length', 'upper', 'lower', 'numeric', 'entropy', 'special', 'labels', 'labels_max', 'labels_average', 'longest_word', 'sld', 'len', 'subdomain'],\n",
    "    filled=True,\n",
    "    rounded=True,\n",
    "    special_characters=True,\n",
    ")\n",
    "graph = graphviz.Source(dot_data)\n",
    "graph.render(\"pruned_dt_explation\")"
   ]
  }
 ],
 "metadata": {
  "kernelspec": {
   "display_name": "base",
   "language": "python",
   "name": "python3"
  },
  "language_info": {
   "codemirror_mode": {
    "name": "ipython",
    "version": 3
   },
   "file_extension": ".py",
   "mimetype": "text/x-python",
   "name": "python",
   "nbconvert_exporter": "python",
   "pygments_lexer": "ipython3",
   "version": "3.9.13"
  },
  "orig_nbformat": 4
 },
 "nbformat": 4,
 "nbformat_minor": 2
}
